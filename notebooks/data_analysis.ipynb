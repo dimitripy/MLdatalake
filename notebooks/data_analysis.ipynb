{
 "cells": [
  {
   "cell_type": "code",
   "execution_count": null,
   "metadata": {},
   "outputs": [],
   "source": [
    "# MLdatalake: Datenanalyse und Modelltraining\n",
    "\n",
    "## 1. Laden der Parquet-Datei\n",
    "import pandas as pd\n",
    "\n",
    "# Mount Google Drive\n",
    "from google.colab import drive\n",
    "drive.mount('/content/drive')\n",
    "\n",
    "# Parquet-Datei laden\n",
    "df = pd.read_parquet('/content/drive/MyDrive/BTC_USD.parquet')\n",
    "\n",
    "# Daten anzeigen\n",
    "print(df.head())\n"
   ]
  },
  {
   "cell_type": "markdown",
   "metadata": {},
   "source": [
    "Modeltraining"
   ]
  },
  {
   "cell_type": "code",
   "execution_count": null,
   "metadata": {},
   "outputs": [],
   "source": [
    "# Beispiel: Einfaches Modelltraining mit scikit-learn\n",
    "\n",
    "from sklearn.model_selection import train_test_split\n",
    "from sklearn.ensemble import RandomForestClassifier\n",
    "\n",
    "# Daten vorbereiten\n",
    "X = df[['open', 'high', 'low', 'close', 'volume']]\n",
    "y = (df['close'] > df['open']).astype(int)  # Beispiel: Binäre Klassifikation ob der Preis gestiegen ist\n",
    "\n",
    "X_train, X_test, y_train, y_test = train_test_split(X, y, test_size=0.2, random_state=42)\n",
    "\n",
    "# Modell erstellen und trainieren\n",
    "model = RandomForestClassifier(n_estimators=100, random_state=42)\n",
    "model.fit(X_train, y_train)\n",
    "\n",
    "# Modell evaluieren\n",
    "accuracy = model.score(X_test, y_test)\n",
    "print(f\"Modellgenauigkeit: {accuracy}\")\n"
   ]
  }
 ],
 "metadata": {
  "language_info": {
   "name": "python"
  }
 },
 "nbformat": 4,
 "nbformat_minor": 2
}
