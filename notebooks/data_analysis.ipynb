{
 "cells": [
  {
   "cell_type": "code",
   "execution_count": null,
   "metadata": {},
   "outputs": [],
   "source": [
    "# MLdatalake: Datenanalyse und Modelltraining\n",
    "\n",
    "## 1. Laden der Parquet-Datei\n",
    "```python\n",
    "import pandas as pd\n",
    "\n",
    "# Mount Google Drive\n",
    "from google.colab import drive\n",
    "drive.mount('/content/drive')\n",
    "\n",
    "# Parquet-Datei laden\n",
    "df = pd.read_parquet('/content/drive/MyDrive/BTC_USD.parquet')\n",
    "\n",
    "# Daten anzeigen\n",
    "print(df.head())\n"
   ]
  }
 ],
 "metadata": {
  "language_info": {
   "name": "python"
  }
 },
 "nbformat": 4,
 "nbformat_minor": 2
}
