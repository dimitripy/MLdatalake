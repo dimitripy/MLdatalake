{
 "cells": [
  {
   "cell_type": "code",
   "execution_count": null,
   "metadata": {},
   "outputs": [],
   "source": [
    "# import_data_notebook.ipynb\n",
    "\n",
    "import sys\n",
    "import os\n",
    "import json\n",
    "from importlib import import_module\n",
    "\n",
    "# Ermitteln des aktuellen Verzeichnisses des Notebooks\n",
    "current_dir = os.path.dirname(os.path.abspath('__file__'))\n",
    "\n",
    "# Füge das Verzeichnis hinzu, in dem sich die Module befinden\n",
    "modules_dir = os.path.join(current_dir, 'modules')\n",
    "sys.path.append(modules_dir)\n",
    "\n",
    "# Importiere die Module\n",
    "create_database = import_module('create_database')\n",
    "extract_and_save_csv = import_module('extract_and_save_csv')\n",
    "import_to_db = import_module('import_to_db')\n",
    "\n",
    "# Lade die Konfigurationsdatei\n",
    "def load_config(config_file_path):\n",
    "    with open(config_file_path, 'r') as file:\n",
    "        config = json.load(file)\n",
    "    return config\n",
    "\n",
    "source = '/home/ageq/Git_Projects/MLdatalake/source/'\n",
    "\n",
    "# Beispiel für die Ausführung im Notebook\n",
    "config_file_path = os.path.join(current_dir, 'config.json')\n",
    "# Zielspeicherpfad\n",
    "csv_file_path = os.path.join(source, 'gespeicherter_dataframe.csv')\n",
    "symbol_filter = None  # Optional: Nur Daten für ein bestimmtes Symbol importieren, z.B. \"btcusd\"\n",
    "\n"
   ]
  },
  {
   "cell_type": "code",
   "execution_count": null,
   "metadata": {},
   "outputs": [],
   "source": [
    "# 1. Erstelle die Datenbank und Tabellen\n",
    "create_database.main(config_file_path)"
   ]
  },
  {
   "cell_type": "code",
   "execution_count": null,
   "metadata": {},
   "outputs": [],
   "source": [
    "# 2. Extrahiere und speichere die CSV-Datei\n",
    "zip_file_path = os.path.join(source, 'trimmed_file.zip')\n",
    "extract_and_save_csv.extract_and_save_csv(zip_file_path, csv_file_path)"
   ]
  },
  {
   "cell_type": "code",
   "execution_count": null,
   "metadata": {},
   "outputs": [],
   "source": [
    "# 3. Importiere die Daten in die Datenbank\n",
    "import_to_db.main(config_file_path, csv_file_path, symbol_filter)"
   ]
  }
 ],
 "metadata": {
  "language_info": {
   "name": "python"
  }
 },
 "nbformat": 4,
 "nbformat_minor": 2
}
