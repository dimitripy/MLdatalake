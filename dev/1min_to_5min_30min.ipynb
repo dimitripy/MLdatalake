{
 "cells": [
  {
   "cell_type": "markdown",
   "metadata": {},
   "source": [
    "hier werden bestehende 1 min Daten zusätzlich in 5 um 30 min Daten gespeichert "
   ]
  }
 ],
 "metadata": {
  "language_info": {
   "name": "python"
  }
 },
 "nbformat": 4,
 "nbformat_minor": 2
}
