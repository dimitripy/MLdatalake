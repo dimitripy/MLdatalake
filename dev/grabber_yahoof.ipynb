{
 "cells": [
  {
   "cell_type": "markdown",
   "metadata": {},
   "source": [
    "Stand: in Entwicklung\n",
    "TODO\n",
    "- die Api schnittstellen fehlen\n",
    "- Datenaufbereitung\n",
    "- Symbole hochladen"
   ]
  },
  {
   "cell_type": "code",
   "execution_count": 1,
   "metadata": {},
   "outputs": [],
   "source": [
    "import sys\n",
    "import os\n",
    "import pandas as pd\n",
    "from datetime import datetime\n",
    "\n",
    "# Pfad zum Modul: /home/ageq/Git_Projects/MLdatalake/customs\n",
    "current_dir = os.getcwd()\n",
    "sys.path.append(os.path.abspath(os.path.join(current_dir, '..', 'customs')))\n",
    "\n",
    "from Module.SQLAlchemy_functions import start_session, Symbol, MinuteBar\n",
    "\n",
    "#/home/ageq/Git_Projects/MLdatalake/customs/Module/Grabber/Yahoofinance.py\n",
    "\n",
    "from Module.Grabber.Yahoofinance import load_yf_data\n",
    "\n",
    "\n",
    "#session = start_session()"
   ]
  },
  {
   "cell_type": "code",
   "execution_count": 2,
   "metadata": {},
   "outputs": [],
   "source": [
    "# Neues Asset hinzufügen\n",
    "def add_new_asset(session, row):\n",
    "    try:\n",
    "        asset = Symbol(\n",
    "            ticker=row['ticker'],\n",
    "            name=row['name'],\n",
    "            market=row['market'],\n",
    "            active=row['active']\n",
    "        )\n",
    "        session.add(asset)\n",
    "        session.commit()\n",
    "        print(f\"Asset {row['ticker']} erfolgreich hinzugefügt.\")\n",
    "    except Exception as e:\n",
    "        print(f\"Fehler beim Hinzufügen des Assets {row['ticker']}: {e}\")\n"
   ]
  },
  {
   "cell_type": "code",
   "execution_count": 3,
   "metadata": {},
   "outputs": [],
   "source": [
    "# Aktualisieren der letzten Daten in der Asset-Tabelle\n",
    "def update_asset_last_update(session, ticker, new_last_update):\n",
    "    try:\n",
    "        asset = check_if_asset_exists(session, ticker)\n",
    "        if asset:\n",
    "            asset.last_update = datetime.strptime(new_last_update, '%Y-%m-%d')\n",
    "            session.commit()\n",
    "            print(f\"Asset {ticker} wurde erfolgreich aktualisiert.\")\n",
    "        else:\n",
    "            print(f\"Asset {ticker} nicht gefunden.\")\n",
    "    except Exception as e:\n",
    "        print(f\"Fehler beim Aktualisieren des Assets {ticker}: {e}\")\n",
    "\n",
    "#TODO bezeichung ändern\n",
    "# Prüfen, ob das Asset existiert\n",
    "def check_if_asset_exists(session, ticker):\n",
    "    return session.query(Symbol).filter_by(ticker=ticker).first()\n",
    "\n"
   ]
  },
  {
   "cell_type": "code",
   "execution_count": 4,
   "metadata": {},
   "outputs": [],
   "source": [
    "# Daten in MinuteBar-Tabelle einfügen\n",
    "# und in die Datenbank einfügen\n",
    "def insert_minute_bar(session, data, symbol_id):\n",
    "    try:\n",
    "        for index, row in data.iterrows():\n",
    "            minute_bar = MinuteBar(\n",
    "                date=row['date'],\n",
    "                open=row['open'],\n",
    "                high=row['high'],\n",
    "                low=row['low'],\n",
    "                close=row['close'],\n",
    "                volume=row['volume'],\n",
    "                symbol_id=symbol_id\n",
    "            )\n",
    "            session.add(minute_bar)\n",
    "        session.commit()\n",
    "        print(f\"Minutenbalken für Symbol-ID {symbol_id} erfolgreich eingefügt.\")\n",
    "    except Exception as e:\n",
    "        print(f\"Fehler beim Einfügen der MinuteBars für Symbol-ID {symbol_id}: {e}\")\n",
    "        \n",
    "# Daten für 5-Minuten und 30-Minuten-Bars sind ähnlich:\n",
    "# insert_five_minute_bar, insert_thirty_minute_bar (folgt ähnlicher Logik)\n"
   ]
  },
  {
   "cell_type": "code",
   "execution_count": 5,
   "metadata": {},
   "outputs": [],
   "source": [
    "\n",
    "# Dummy-Funktionen für verschiedene Exchanges\n",
    "def process_binance_asset(session, row):\n",
    "    print(\"Binance ist noch nicht implementiert.\")\n",
    "    #print(f\"Verarbeite Binance Asset: {row['ticker']}\")\n",
    "\n",
    "def process_yahoof_asset(session, row, asset):\n",
    "    data = load_yf_data(row, timeframe = '5m')\n",
    "\n",
    "    # und in die Datenbank einfügen\n",
    "    print(f\"Verarbeite Yahoo Finance Asset: {row['ticker']}\")\n",
    "    insert_minute_bar(session, data, asset.id)\n",
    "    \n",
    "exchange_function_map = {\n",
    "    'Binance': process_binance_asset,\n",
    "    'Yahoo Finance': process_yahoof_asset\n",
    "}"
   ]
  },
  {
   "cell_type": "code",
   "execution_count": 6,
   "metadata": {},
   "outputs": [],
   "source": [
    "def load_assets_from_csv(file_path, session):\n",
    "    try:\n",
    "        assets_df = pd.read_csv(file_path)\n",
    "        with open(file_path, 'r') as file:\n",
    "            content = file.read()\n",
    "            if not content.strip():\n",
    "                print(\"Die CSV-Datei ist leer.\")\n",
    "                return\n",
    "    except Exception as e:\n",
    "        print(f\"Fehler beim Einlesen der CSV-Datei: {e}\")\n",
    "        return\n",
    "    \n",
    "    for index, row in assets_df.iterrows():\n",
    "        try:\n",
    "            process_asset(session, row)\n",
    "        except Exception as e:\n",
    "            print(f\"Fehler beim Verarbeiten des Assets {row['ticker']}: {e}\")\n",
    "            continue  # Fortfahren mit dem nächsten Asset\n",
    "\n",
    "\n",
    "\n",
    "# Asset-Verarbeitung (Erstellen oder Aktualisieren)\n",
    "def process_asset(session, row):\n",
    "    # Prüfen, ob das Asset existiert\n",
    "    asset = check_if_asset_exists(session, row['ticker'])\n",
    "    \n",
    "    if asset:\n",
    "        print(f\"Asset {row['ticker']} existiert bereits. Aktualisiere letzter Stand.\")\n",
    "        update_asset_last_update(session, row['ticker'], row['last_update'])\n",
    "    else:\n",
    "        print(f\"Asset {row['ticker']} wird erstellt.\")\n",
    "        add_new_asset(session, row)\n",
    "    \n",
    "    # Verarbeiten des Assets basierend auf dem Exchange\n",
    "    exchange = row['exchange']\n",
    "    if exchange in exchange_function_map:\n",
    "        exchange_function_map[exchange](session, row, asset)\n",
    "    else:\n",
    "        print(f\"Unbekannter Exchange: {exchange}\")\n"
   ]
  },
  {
   "cell_type": "code",
   "execution_count": 7,
   "metadata": {},
   "outputs": [
    {
     "name": "stdout",
     "output_type": "stream",
     "text": [
      "session started\n",
      "Asset BTCUSD existiert bereits. Aktualisiere letzter Stand.\n",
      "Asset BTCUSD wurde erfolgreich aktualisiert.\n",
      "Fehler beim Verarbeiten des Assets BTCUSD: process_binance_asset() takes 2 positional arguments but 3 were given\n",
      "Asset AAPL existiert bereits. Aktualisiere letzter Stand.\n",
      "Asset AAPL wurde erfolgreich aktualisiert.\n",
      "Asset: <Symbol(ticker=AAPL, name=Apple, market=stock)>\n",
      "Verarbeite Yahoo Finance Asset: AAPL\n",
      "Fehler beim Einfügen der MinuteBars für Symbol-ID 351: 'list' object has no attribute 'iterrows'\n",
      "Asset EURUSD existiert bereits. Aktualisiere letzter Stand.\n",
      "Asset EURUSD wurde erfolgreich aktualisiert.\n",
      "Asset: <Symbol(ticker=EURUSD, name=Euro-Dollar, market=forex)>\n"
     ]
    },
    {
     "name": "stderr",
     "output_type": "stream",
     "text": [
      "$EURUSD: possibly delisted; no timezone found\n"
     ]
    },
    {
     "name": "stdout",
     "output_type": "stream",
     "text": [
      "Keine Daten für EURUSD im Zeitraum 2024-08-25 bis 2024-10-23\n",
      "Verarbeite Yahoo Finance Asset: EURUSD\n",
      "Fehler beim Einfügen der MinuteBars für Symbol-ID 352: 'NoneType' object has no attribute 'iterrows'\n"
     ]
    }
   ],
   "source": [
    "def main():\n",
    "    # Datenbank-Verbindung und Session erstellen\n",
    "\n",
    "    \n",
    "    # CSV-Datei Pfad\n",
    "    csv_file_path = 'ref_assets.csv'\n",
    "    \n",
    "    # Tabellen in der Datenbank erstellen\n",
    "    #create_tables(engine)\n",
    "    session= start_session()\n",
    "    # Assets aus CSV laden und verarbeiten\n",
    "    load_assets_from_csv(csv_file_path, session)\n",
    "\n",
    "if __name__ == \"__main__\":\n",
    "    main()\n",
    "\n"
   ]
  }
 ],
 "metadata": {
  "kernelspec": {
   "display_name": "venv",
   "language": "python",
   "name": "python3"
  },
  "language_info": {
   "codemirror_mode": {
    "name": "ipython",
    "version": 3
   },
   "file_extension": ".py",
   "mimetype": "text/x-python",
   "name": "python",
   "nbconvert_exporter": "python",
   "pygments_lexer": "ipython3",
   "version": "3.11.2"
  }
 },
 "nbformat": 4,
 "nbformat_minor": 2
}
